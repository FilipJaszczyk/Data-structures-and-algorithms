{
 "cells": [
  {
   "cell_type": "markdown",
   "metadata": {},
   "source": [
    "# Stack\n",
    "Stack is an **abstract data type** which can be implemented with array or linked list. It has **LIFO** structure - last item inserted is going to be first on the output. Basic stack allow to pushing and removing last element of the stack.\n",
    "\n",
    "## Usage\n",
    "\n",
    "- stack-oriented programming languages\n",
    "- graph algorithms\n",
    "- keeping track of the actions that can be undone\n"
   ]
  }
 ],
 "metadata": {
  "kernelspec": {
   "display_name": "Python 3",
   "language": "python",
   "name": "python3"
  },
  "language_info": {
   "codemirror_mode": {
    "name": "ipython",
    "version": 3
   },
   "file_extension": ".py",
   "mimetype": "text/x-python",
   "name": "python",
   "nbconvert_exporter": "python",
   "pygments_lexer": "ipython3",
   "version": "3.7.6"
  }
 },
 "nbformat": 4,
 "nbformat_minor": 4
}
