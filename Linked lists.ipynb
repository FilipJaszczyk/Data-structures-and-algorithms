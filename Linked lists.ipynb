{
 "cells": [
  {
   "cell_type": "markdown",
   "metadata": {},
   "source": [
    "# Linked list\n",
    "\n",
    "Linear collection of elements whose order is not given by their memory address (unlike traditional Array). Each element (Node) store data itself and reference to the next Node.\n",
    "\n",
    "## Advantages \n",
    "- dynamic data structure (no need for resizing)\n",
    "- no need to know size at compile time\n",
    "- there is no need to shift items while inserting/deleting items (just update reference) at beggining \n",
    "- can store different types of items\n",
    "\n",
    "## Disadvantages\n",
    "- linked list takes more memory then array\n",
    "- simple implementation of linked list do not allow random access\n",
    "- not suitable for caching (array elements are have cotiguous locations) \n",
    "- searching for arbitrary items O(n) (same as array)"
   ]
  },
  {
   "cell_type": "markdown",
   "metadata": {},
   "source": [
    "## Node implementation"
   ]
  },
  {
   "cell_type": "code",
   "execution_count": 51,
   "metadata": {},
   "outputs": [],
   "source": [
    "from typing import Any\n",
    "\n",
    "class Node:\n",
    "    def __init__(self, data: Any):\n",
    "        self.data = data\n",
    "        self.next_node = None\n",
    "\n",
    "    def __str__(self):\n",
    "        return str(self.data)"
   ]
  },
  {
   "cell_type": "markdown",
   "metadata": {},
   "source": [
    "## List implementation"
   ]
  },
  {
   "cell_type": "code",
   "execution_count": 72,
   "metadata": {},
   "outputs": [],
   "source": [
    "class LinkedList:\n",
    "    def __init__(self):\n",
    "        self.head = None\n",
    "        self.number_of_nodes = 0\n",
    "\n",
    "    def insert_start(self, data: Any): # O(1)\n",
    "        \"\"\"\n",
    "        Create new Node object, if head exists update the reference next Node(old head).\n",
    "        Increment number of Nodes objects.\n",
    "        \"\"\"\n",
    "        new_node = Node(data)\n",
    "        if self.head:\n",
    "            new_node.next_node = self.head\n",
    "        self.head = new_node\n",
    "        self.number_of_nodes += 1\n",
    "\n",
    "    def insert_end(self, data: Any): # O(n) when last element is unknown\n",
    "        \"\"\"\n",
    "        Create new Node object, iterate through nodes to the point when `next_node` is None.\n",
    "        Update last Node reference to newly created Node. \n",
    "        \"\"\"\n",
    "        new_node = Node(data)\n",
    "        if not self.head:\n",
    "            self.head = new_node\n",
    "            return\n",
    "        current_node = self.head\n",
    "        while current_node.next_node is not None:\n",
    "            current_node = current_node.next_node\n",
    "        current_node.next_node = Node(data)\n",
    "        self.number_of_nodes += 1\n",
    "\n",
    "    def remove(self, data: Any): # search time + O(1)\n",
    "        \"\"\"\n",
    "        If head doesn't exists (list is empty) return None.\n",
    "        If data in the head node match remove it.\n",
    "        Iterate through nodes, if last node data does not match return None,\n",
    "        otherwise replace previous node `next_node` reference to current node `next_node`.\n",
    "        \"\"\"\n",
    "        current_node = self.head\n",
    "        if not current_node:\n",
    "            return\n",
    "        elif current_node.data == data:\n",
    "            self.head = current_node.next_node\n",
    "            return\n",
    "        previous_node = None\n",
    "        while current_node is not None and current_node.data != data:\n",
    "            previous_node = current_node\n",
    "            current_node = current_node.next_node\n",
    "                \n",
    "        # there is no key to remove, reached last node\n",
    "        if current_node is None:\n",
    "            return\n",
    "        # change reference on previous node to point at the same node as current node was pointing \n",
    "        previous_node.next_node = current_node.next_node \n",
    "        self.number_of_nodes -= 1\n",
    "\n",
    "    def __iter__(self):\n",
    "        \"\"\"Implementing __iter__ allows iterating over list element by element\"\"\"\n",
    "        current_node = self.head\n",
    "        while current_node is not None:\n",
    "            yield current_node\n",
    "            current_node = current_node.next_node\n",
    "\n",
    "    def __str__(self):\n",
    "        return str([node.data for node in self])\n",
    "    \n",
    "    def __len__(self):\n",
    "        return self.number_of_nodes"
   ]
  },
  {
   "cell_type": "markdown",
   "metadata": {},
   "source": [
    "## Usage example"
   ]
  },
  {
   "cell_type": "code",
   "execution_count": 74,
   "metadata": {},
   "outputs": [
    {
     "name": "stdout",
     "output_type": "stream",
     "text": [
      "[6, 5, 'Norman', 4, 'Jorge']\n",
      "[5, 4]\n",
      "5\n",
      "4\n"
     ]
    }
   ],
   "source": [
    "linked_list = LinkedList()\n",
    "linked_list.insert_start(4)\n",
    "linked_list.insert_start(\"Norman\")\n",
    "linked_list.insert_start(5)\n",
    "linked_list.insert_start(6)\n",
    "linked_list.insert_end(\"Jorge\")\n",
    "print(linked_list)\n",
    "linked_list.remove(6)\n",
    "linked_list.remove(\"Norman\")\n",
    "linked_list.remove(\"Jorge\")\n",
    "print(linked_list)\n",
    "for element in linked_list:\n",
    "    print(element)"
   ]
  },
  {
   "cell_type": "markdown",
   "metadata": {},
   "source": [
    "## Reversing Linked list"
   ]
  },
  {
   "cell_type": "code",
   "execution_count": 78,
   "metadata": {},
   "outputs": [
    {
     "name": "stdout",
     "output_type": "stream",
     "text": [
      "[0, 1, 2, 3, 4, 5, 6, 7, 8, 9]\n",
      "[9, 8, 7, 6, 5, 4, 3, 2, 1, 0]\n"
     ]
    }
   ],
   "source": [
    "class ReversableLinkedList(LinkedList):\n",
    "    def reverse(self):\n",
    "        current_node = self.head\n",
    "        previous_node = None\n",
    "        \n",
    "        while current_node is not None:\n",
    "            next_node = current_node.next_node\n",
    "            current_node.next_node = previous_node\n",
    "            previous_node = current_node\n",
    "            current_node = next_node\n",
    "            \n",
    "        self.head = previous_node\n",
    "        \n",
    "linked_list = ReversableLinkedList()\n",
    "for _ in range(10):\n",
    "    linked_list.insert_end(_)\n",
    "print(linked_list)\n",
    "linked_list.reverse()\n",
    "print(linked_list)"
   ]
  },
  {
   "cell_type": "markdown",
   "metadata": {},
   "source": [
    "## Doubly Linked list\n",
    "\n",
    "Each node store data and **two** references - to the next and previous node. Given than doubly linked list takes more memory then stardard linked list. List itself store references to the **head node** and **tail node** so operations on the last element are **O(1)**."
   ]
  },
  {
   "cell_type": "code",
   "execution_count": 45,
   "metadata": {},
   "outputs": [],
   "source": [
    "class Node:\n",
    "    def __init__(self, data):\n",
    "        self.data = data\n",
    "        self.next_node = None\n",
    "        self.previous_node = None\n",
    "        \n",
    "    def __str__(self):\n",
    "        return str(self.data)\n",
    "        \n",
    "class DoublyLinkedList:\n",
    "    \n",
    "    def __init__(self):\n",
    "        self.head = None\n",
    "        self.tail = None\n",
    "        self.number_of_nodes = 0\n",
    "        \n",
    "    def __len__(self):\n",
    "        return self.number_of_nodes\n",
    "        \n",
    "    def append(self, data) -> None:\n",
    "        \"\"\"Append element to the end of list\"\"\"\n",
    "        new_node = Node(data)\n",
    "        \n",
    "        if self.head is None:\n",
    "            self.head = new_node\n",
    "            self.tail = new_node\n",
    "        else:\n",
    "            new_node.previous_node = self.tail\n",
    "            self.tail.next_node = new_node\n",
    "            self.tail = new_node\n",
    "        self.number_of_nodes += 1\n",
    "            \n",
    "    def remove(self, data) -> None:\n",
    "        if not self.head: # empty list\n",
    "            return\n",
    "        \n",
    "        if self.head.data == data:\n",
    "            self.head = self.head.next_node\n",
    "        \n",
    "        current_node = self.head\n",
    "        while current_node is not None and current_node.data != data:\n",
    "            current_node = current_node.next_node\n",
    "        \n",
    "        if current_node is None: # no item found\n",
    "            return \n",
    "        previous_node = current_node.previous_node\n",
    "        previous_node.next_node = current_node.next_node\n",
    "        self.number_of_nodes -= 1\n",
    "        \n",
    "    def insert_start(self, data) -> None:\n",
    "        \n",
    "        new_node = Node(data)\n",
    "        if not self.head:\n",
    "            self.head = new_node\n",
    "            self.tail = new_node\n",
    "        else:\n",
    "            new_node.next_node = self.head\n",
    "            self.head.previous_node = new_node\n",
    "            self.head = new_node\n",
    "            \n",
    "        \n",
    "            \n",
    "    def __iter__(self):\n",
    "        current_node = self.head\n",
    "        while current_node is not None:\n",
    "            yield current_node\n",
    "            current_node = current_node.next_node\n",
    "            \n",
    "    def __str__(self):\n",
    "        return str([node.data for node in self])"
   ]
  },
  {
   "cell_type": "markdown",
   "metadata": {},
   "source": [
    "## Usage example"
   ]
  },
  {
   "cell_type": "code",
   "execution_count": 49,
   "metadata": {},
   "outputs": [
    {
     "name": "stdout",
     "output_type": "stream",
     "text": [
      "[-1, 0, 1, 2, 3, 4, 5, 6, 7, 8, 9]\n",
      "-1\n",
      "9\n",
      "[-1, 1, 2, 3, 4, 5, 6, 7, 8, 9]\n",
      "[99, -1, 1, 2, 3, 4, 5, 6, 7, 8, 9]\n"
     ]
    }
   ],
   "source": [
    "linked_list = DoublyLinkedList()\n",
    "linked_list.insert_start(-1)\n",
    "for _ in range(10):\n",
    "    linked_list.append(_)\n",
    "print(linked_list)\n",
    "print(linked_list.head)\n",
    "print(linked_list.tail)\n",
    "linked_list.remove(0)\n",
    "print(linked_list)\n",
    "linked_list.insert_start(99)\n",
    "print(linked_list)"
   ]
  }
 ],
 "metadata": {
  "kernelspec": {
   "display_name": "Python 3",
   "language": "python",
   "name": "python3"
  },
  "language_info": {
   "codemirror_mode": {
    "name": "ipython",
    "version": 3
   },
   "file_extension": ".py",
   "mimetype": "text/x-python",
   "name": "python",
   "nbconvert_exporter": "python",
   "pygments_lexer": "ipython3",
   "version": "3.7.6"
  }
 },
 "nbformat": 4,
 "nbformat_minor": 4
}
