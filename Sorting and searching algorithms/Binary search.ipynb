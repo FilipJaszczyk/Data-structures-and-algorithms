{
 "cells": [
  {
   "attachments": {},
   "cell_type": "markdown",
   "metadata": {},
   "source": [
    "## Binary search algorithm"
   ]
  },
  {
   "cell_type": "code",
   "execution_count": 1,
   "metadata": {},
   "outputs": [],
   "source": [
    "def search(array, element):\n",
    "    head = 0\n",
    "    tail = len(array) - 1\n",
    "    \n",
    "    while head <= tail:\n",
    "        mid = (head + tail) // 2\n",
    "        # ignore left half of given list\n",
    "        if array[mid] < x:\n",
    "            head = mid + 1\n",
    "            \n",
    "        # ignore right half \n",
    "        elif array[mid] > x:\n",
    "            tail = mid - 1\n",
    "        \n",
    "        else:\n",
    "            return mid\n",
    "        \n",
    "    return \"Element not found\""
   ]
  }
 ],
 "metadata": {
  "kernelspec": {
   "display_name": "Python 3",
   "language": "python",
   "name": "python3"
  },
  "language_info": {
   "codemirror_mode": {
    "name": "ipython",
    "version": 3
   },
   "file_extension": ".py",
   "mimetype": "text/x-python",
   "name": "python",
   "nbconvert_exporter": "python",
   "pygments_lexer": "ipython3",
   "version": "3.7.6"
  }
 },
 "nbformat": 4,
 "nbformat_minor": 4
}
